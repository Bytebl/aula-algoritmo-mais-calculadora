{
 "cells": [
  {
   "cell_type": "code",
   "execution_count": 7,
   "metadata": {},
   "outputs": [
    {
     "ename": "TypeError",
     "evalue": "range expected at least 1 argument, got 0",
     "output_type": "error",
     "traceback": [
      "\u001b[1;31m---------------------------------------------------------------------------\u001b[0m",
      "\u001b[1;31mTypeError\u001b[0m                                 Traceback (most recent call last)",
      "Cell \u001b[1;32mIn[7], line 3\u001b[0m\n\u001b[0;32m      1\u001b[0m \u001b[38;5;66;03m#funcions and methods\u001b[39;00m\n\u001b[1;32m----> 3\u001b[0m \u001b[38;5;28;43mrange\u001b[39;49m\u001b[43m(\u001b[49m\u001b[43m)\u001b[49m\n\u001b[0;32m      5\u001b[0m \u001b[38;5;28mrange\u001b[39m(\u001b[38;5;241m1\u001b[39m,\u001b[38;5;241m5\u001b[39m)\n\u001b[0;32m      6\u001b[0m \u001b[38;5;28;01mdef\u001b[39;00m \u001b[38;5;21mfuncaoleitura\u001b[39m():\n",
      "\u001b[1;31mTypeError\u001b[0m: range expected at least 1 argument, got 0"
     ]
    }
   ],
   "source": [
    "#funcions and methods\n",
    "\n",
    "range()\n",
    "\n",
    "range(1,5)\n",
    "def funcaoleitura():\n",
    "    for num in [1,2,3,4,5]:\n",
    "        print(\"número\" ,num)\n",
    "\n",
    "def funcaoleitura():\n",
    "    for num in range(5):\n",
    "        print(\"número\",num)\n",
    "\n",
    "\n"
   ]
  },
  {
   "cell_type": "code",
   "execution_count": 14,
   "metadata": {},
   "outputs": [],
   "source": [
    "def addNum(n1,n2):\n",
    "    print(\"o primeiro número é:\",n1)\n",
    "    print(\"o segundo número é:\",n2)\n",
    "    print(\"a soma número é:\", n1+n2)"
   ]
  },
  {
   "cell_type": "code",
   "execution_count": null,
   "metadata": {},
   "outputs": [],
   "source": [
    "varGlobal = 10 #essa é uma variavel global\n",
    "def multiplicação(num1,num2):\n",
    "    #apesar do mesmo nome, é uma variavel local:\n",
    "    varglobal = (num1*num2)\n",
    "    print(\"variavel da função multiplica:\", varglobal)\n",
    "    multiplicacao(5,4)\n",
    "    print(varglobal)"
   ]
  },
  {
   "cell_type": "code",
   "execution_count": 15,
   "metadata": {},
   "outputs": [],
   "source": [
    "varglobal = 10 #essa é uma variavel global \n",
    "def multiplica(num1,num2):\n",
    "    varlocal = num1 * num2 #essa é uma variavel local \n",
    "    print(\"variavel da função multiplica:\", varlocal)\n",
    "    print(varlocal)"
   ]
  },
  {
   "cell_type": "code",
   "execution_count": 16,
   "metadata": {},
   "outputs": [],
   "source": [
    "def separartexto(texto):\n",
    "    return texto.split()\n"
   ]
  },
  {
   "cell_type": "code",
   "execution_count": 17,
   "metadata": {},
   "outputs": [],
   "source": [
    "#quando não sabemos a quantidade de parametros basta usar...\n",
    "def variosparametros(*parametros):\n",
    "    for n, item in enumerate(parametros):\n",
    "        print(\"parametro\", n, item)\n",
    "    return"
   ]
  },
  {
   "cell_type": "code",
   "execution_count": 18,
   "metadata": {},
   "outputs": [
    {
     "name": "stdout",
     "output_type": "stream",
     "text": [
      "parametro 0 cibele\n"
     ]
    }
   ],
   "source": [
    "variosparametros('cibele','suely','giggio','madá','luquinhas')"
   ]
  },
  {
   "cell_type": "code",
   "execution_count": 19,
   "metadata": {},
   "outputs": [
    {
     "name": "stdout",
     "output_type": "stream",
     "text": [
      "parametro 0 pitomba\n"
     ]
    }
   ],
   "source": [
    "variosparametros('pitomba','jambo','siriguela','umbu')"
   ]
  },
  {
   "cell_type": "code",
   "execution_count": 42,
   "metadata": {},
   "outputs": [],
   "source": [
    "\n",
    "def somar(n1,n2):\n",
    "    return n1+n2\n",
    "def subtrair(n1,n2):\n",
    "   return n1-n2\n",
    "def dividir(n1,n2):\n",
    "    return n1/n2\n",
    "def multiplicar(n1,n2):\n",
    "    return n1*n2"
   ]
  },
  {
   "cell_type": "code",
   "execution_count": 44,
   "metadata": {},
   "outputs": [
    {
     "name": "stdout",
     "output_type": "stream",
     "text": [
      "+=================+\n",
      "| menu de operações\n",
      "| 1 - somar        \n",
      "| 2 - subtrair     \n",
      "| 3 - multiplicar  \n",
      "| 4 - dividir      \n",
      "| 0 - sair         \n",
      "+=================+\n",
      "o resultado da multiplicação é: 726\n",
      "+=================+\n",
      "| menu de operações\n",
      "| 1 - somar        \n",
      "| 2 - subtrair     \n",
      "| 3 - multiplicar  \n",
      "| 4 - dividir      \n",
      "| 0 - sair         \n",
      "+=================+\n",
      "o resultado da divisão é: 0.8208955223880597\n",
      "+=================+\n",
      "| menu de operações\n",
      "| 1 - somar        \n",
      "| 2 - subtrair     \n",
      "| 3 - multiplicar  \n",
      "| 4 - dividir      \n",
      "| 0 - sair         \n",
      "+=================+\n"
     ]
    }
   ],
   "source": [
    "while True:\n",
    "    print(\"+=================+\")\n",
    "    print(\"| menu de operações\")\n",
    "    print(\"| 1 - somar        \")\n",
    "    print(\"| 2 - subtrair     \")\n",
    "    print(\"| 3 - multiplicar  \")\n",
    "    print(\"| 4 - dividir      \")\n",
    "    print(\"| 0 - sair         \")\n",
    "    print(\"+=================+\")\n",
    "\n",
    "    op = int(input())\n",
    "    if op==0:\n",
    "        break\n",
    "    n1 = int(input(\"primeiro número:\"))\n",
    "    n2 = int(input(\"primeiro número:\"))\n",
    "\n",
    "    if op==1:\n",
    "        print(\"o resultado da soma é:'\", somar(n1,n2))\n",
    "    elif op==2:\n",
    "        print(\"o resultado da subtração é:\", subtrair(n1,n2))\n",
    "    elif op==3:\n",
    "        print(\"o resultado da multiplicação é:\", multiplicar(n1,n2))\n",
    "    elif op==4:\n",
    "        print(\"o resultado da divisão é:\",dividir(n1,n2))"
   ]
  },
  {
   "cell_type": "code",
   "execution_count": null,
   "metadata": {},
   "outputs": [],
   "source": []
  }
 ],
 "metadata": {
  "kernelspec": {
   "display_name": "Python 3",
   "language": "python",
   "name": "python3"
  },
  "language_info": {
   "codemirror_mode": {
    "name": "ipython",
    "version": 3
   },
   "file_extension": ".py",
   "mimetype": "text/x-python",
   "name": "python",
   "nbconvert_exporter": "python",
   "pygments_lexer": "ipython3",
   "version": "3.12.3"
  }
 },
 "nbformat": 4,
 "nbformat_minor": 2
}
