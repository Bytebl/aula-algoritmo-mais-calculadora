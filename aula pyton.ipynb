{
 "cells": [
  {
   "cell_type": "code",
   "execution_count": 7,
   "metadata": {},
   "outputs": [],
   "source": [
    "#criando uma classe \n",
    "class Animal():\n",
    "    #construtor da classe \n",
    "    def __init__(self, name, weight, color):\n",
    "    #atributos\n",
    "        self.nome=name \n",
    "        self.peso=weight \n",
    "        self.corDoPelo=color \n",
    "\n",
    "    def imprimidados(self):\n",
    "        return(\"Nome: %s \\nPeso: %s\" %(self.nome, self.peso))\n",
    "    def latir(self, barulho):\n",
    "        print(barulho)"
   ]
  },
  {
   "cell_type": "code",
   "execution_count": null,
   "metadata": {},
   "outputs": [],
   "source": [
    "#instanciando um objeto cachorro \n",
    "caozinho = Animal(\"Marlene\",7.9,\"caramelo\")\n",
    "gato= Animal(\"cibele\",4.5,\"cinza\")\n",
    "\n",
    "#chamado o metodo do objeto criado\n",
    "print(caozinho.imprimirDados())\n",
    "caozinho.latir(\"AU, Au!\")\n",
    "\n",
    "print(gato.imprimirDados())\n",
    "gato.latir(\"Miau!\")"
   ]
  },
  {
   "cell_type": "code",
   "execution_count": null,
   "metadata": {},
   "outputs": [],
   "source": [
    "#criando uma classe chamada livro \n",
    "class livro():\n",
    "    def __init__(self):\n",
    "        self.titulo=\"o Monge e o Executivo\"\n",
    "        self.isbn=9988888\n",
    "        print(\"construtor chamado para criar um objeto desta classe\")\n",
    "        def imprime(self):\n",
    "            print(\"foi criado o livro %s e isbn $d\" %(self.titulo, self.isbn))\n",
    "            "
   ]
  },
  {
   "cell_type": "code",
   "execution_count": null,
   "metadata": {},
   "outputs": [],
   "source": [
    "#criando uma instancia da classe livro\n",
    "livro=livro()\n",
    "#construtor chamado para criar um objeto desta classe \n",
    "\n",
    "#tipo de objeto livro\n",
    "type(livro1)\n",
    "#__main__.livro \n",
    "\n"
   ]
  },
  {
   "cell_type": "code",
   "execution_count": null,
   "metadata": {},
   "outputs": [],
   "source": [
    "#criando a class\n",
    "class livro():\n",
    "    def __init__(self, titulo,isbn):\n",
    "        self.titulo=titulo \n",
    "        self.isbn=isbn \n",
    "        print(\"construtor chamado para criar um objeto desta classe\")\n",
    "        def imprime(self, titulo,isbn):\n",
    "            print(\"este e o livro %s e isbn %d\" %(titulo, isbn))\n",
    "\n",
    "            #criando o objeto livro 2   que e uma instancia da classe livro\n",
    "            livro2=livro(\"a menina que roubava livros\")77886611"
   ]
  },
  {
   "cell_type": "code",
   "execution_count": null,
   "metadata": {},
   "outputs": [],
   "source": [
    "class pessoa():\n",
    "    def __int__(self, name, age): #variaveis da funcao \n",
    "        self.nome=nome #at class\n",
    "        self.idade=age\n",
    "\n",
    "        def nascimento(self, idade): #variavel\n",
    "            return(2022-idade)"
   ]
  },
  {
   "cell_type": "code",
   "execution_count": null,
   "metadata": {},
   "outputs": [],
   "source": [
    "pessoal1 = pessoa(\"maria\", 35) #criando um objt a partir da class \n",
    "pessoa1.nome #chamado um atributo do obj\n",
    "pessoa1.idade #chamado um atributo do obj\n",
    "pessoa1.nascimenti(35) #chamado um metodo do obj"
   ]
  },
  {
   "cell_type": "code",
   "execution_count": null,
   "metadata": {},
   "outputs": [],
   "source": [
    "listaDePessoas = []# criando lista vazia\n",
    "for i in range(5) #frequencia de repeticao do loop for\n",
    "nome = str(input(\"nome:\"))#entrafa de dados\n",
    "idade = int(input(\"idade:\"))#entrada de dados para\n",
    "pessoa = pessoa(nome, idade)#criando obj pessoa a classe\n",
    "listaDePessoas.append(pessoa)#cada elemento da lista e um objeto\n",
    "\n",
    "for objeto in range(len(listaDePessoas)): #acessando cada obj\n",
    "    #acessando os atributos nome e idade de cada objeto\n",
    "    print(\"nome: %s, idade: %d\" %(listaDePessoas[objeto].nome, listaDePessoas[objeto.idade]))"
   ]
  }
 ],
 "metadata": {
  "kernelspec": {
   "display_name": "Python 3",
   "language": "python",
   "name": "python3"
  },
  "language_info": {
   "codemirror_mode": {
    "name": "ipython",
    "version": 3
   },
   "file_extension": ".py",
   "mimetype": "text/x-python",
   "name": "python",
   "nbconvert_exporter": "python",
   "pygments_lexer": "ipython3",
   "version": "3.12.0"
  }
 },
 "nbformat": 4,
 "nbformat_minor": 2
}
